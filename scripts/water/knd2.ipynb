{
 "cells": [
  {
   "cell_type": "code",
   "execution_count": null,
   "metadata": {},
   "outputs": [
    {
     "name": "stderr",
     "output_type": "stream",
     "text": [
      "/home/abackurs/c/tabular_data/venv/lib/python3.12/site-packages/tqdm/auto.py:21: TqdmWarning: IProgress not found. Please update jupyter and ipywidgets. See https://ipywidgets.readthedocs.io/en/stable/user_install.html\n",
      "  from .autonotebook import tqdm as notebook_tqdm\n"
     ]
    },
    {
     "name": "stdout",
     "output_type": "stream",
     "text": [
      "{'product_name': 'EcoFriendly Urban Water Bottle 750ml', 'overall_rating': '4.1', 'title': 'Awesome', 'cleaned_review': 'This Tritan bottle is strong. The size is perfect for daily use. It is entirely leak-proof and can be carried easily. At this price, quite reasonable.'}\n",
      "{'product_name': 'MILTON Shine 800 Stainless Steel Water Bottle, Purple 700 ml Bottle Reviews', 'overall_rating': '3.5', 'rating': '5', 'title': 'Best in the market!', 'cleaned_review': 'nice'}\n",
      "14.688429869804708\n"
     ]
    }
   ],
   "source": [
    "from sentence_transformers import SentenceTransformer\n",
    "from scipy.stats import wasserstein_distance\n",
    "from tqdm import tqdm\n",
    "import numpy as np\n",
    "import csv\n",
    "import tiktoken\n",
    "\n",
    "path_synthetic = \"/home/abackurs/c/tabular_data/tabular_data/outputs/water_e_10_ns_2000_v_3_mtp_0.5_mcp_0.5_eps_4.0_session_dp/0/samples_csv.csv\"\n",
    "path_train = \"/home/abackurs/c/tabular_data/tabular_data/data/water/water_train_csv.csv\"\n",
    "\n",
    "encoding = tiktoken.encoding_for_model(\"gpt-3.5-turbo\")\n",
    "def num_tokens(s):\n",
    "    return len(encoding.encode(s))\n",
    "\n",
    "def distribution(path):\n",
    "    with open(path, 'r') as f:\n",
    "        reader = csv.DictReader(f)\n",
    "        sequences = list(reader)\n",
    "    print(sequences[0])\n",
    "    return [num_tokens(s['cleaned_review']) for s in sequences]\n",
    "\n",
    "dist_synthetic = distribution(path_synthetic)\n",
    "dist_train = distribution(path_train)\n",
    "print(wasserstein_distance(dist_synthetic, dist_train))"
   ]
  },
  {
   "cell_type": "code",
   "execution_count": 3,
   "metadata": {},
   "outputs": [
    {
     "data": {
      "text/plain": [
       "array([0.6478088 , 0.6750095 , 0.89620155, ..., 0.8643617 , 0.6751026 ,\n",
       "       0.67674476], shape=(1997,), dtype=float32)"
      ]
     },
     "execution_count": 3,
     "metadata": {},
     "output_type": "execute_result"
    }
   ],
   "source": [
    "dist_synthetic"
   ]
  },
  {
   "cell_type": "code",
   "execution_count": null,
   "metadata": {},
   "outputs": [],
   "source": []
  }
 ],
 "metadata": {
  "kernelspec": {
   "display_name": "venv",
   "language": "python",
   "name": "python3"
  },
  "language_info": {
   "codemirror_mode": {
    "name": "ipython",
    "version": 3
   },
   "file_extension": ".py",
   "mimetype": "text/x-python",
   "name": "python",
   "nbconvert_exporter": "python",
   "pygments_lexer": "ipython3",
   "version": "3.12.3"
  }
 },
 "nbformat": 4,
 "nbformat_minor": 2
}
