{
 "cells": [
  {
   "cell_type": "code",
   "execution_count": null,
   "metadata": {},
   "outputs": [
    {
     "name": "stdout",
     "output_type": "stream",
     "text": [
      "{'product_name': 'EcoFriendly Urban Water Bottle 750ml', 'overall_rating': '4.1', 'title': 'Awesome', 'cleaned_review': 'This Tritan bottle is strong. The size is perfect for daily use. It is entirely leak-proof and can be carried easily. At this price, quite reasonable.'}\n"
     ]
    },
    {
     "name": "stderr",
     "output_type": "stream",
     "text": [
      "100%|██████████| 16/16 [00:02<00:00,  7.13it/s]\n",
      "100%|██████████| 16/16 [00:11<00:00,  1.40it/s]\n"
     ]
    },
    {
     "name": "stdout",
     "output_type": "stream",
     "text": [
      "{'product_name': 'MILTON Shine 800 Stainless Steel Water Bottle, Purple 700 ml Bottle Reviews', 'overall_rating': '3.5', 'rating': '5', 'title': 'Best in the market!', 'cleaned_review': 'nice'}\n"
     ]
    },
    {
     "name": "stderr",
     "output_type": "stream",
     "text": [
      "100%|██████████| 157/157 [00:25<00:00,  6.12it/s]\n",
      "100%|██████████| 157/157 [01:07<00:00,  2.34it/s]"
     ]
    },
    {
     "name": "stdout",
     "output_type": "stream",
     "text": [
      "0.004825691382865279\n"
     ]
    },
    {
     "name": "stderr",
     "output_type": "stream",
     "text": [
      "\n"
     ]
    }
   ],
   "source": [
    "from sentence_transformers import SentenceTransformer\n",
    "from scipy.stats import wasserstein_distance\n",
    "from tqdm import tqdm\n",
    "import numpy as np\n",
    "import csv\n",
    "\n",
    "path_synthetic = \"/home/abackurs/c/tabular_data/tabular_data/outputs/water_e_10_ns_2000_v_3_mtp_0.5_mcp_0.5_eps_4.0_session_dp/0/samples_csv.csv\"\n",
    "path_train = \"/home/abackurs/c/tabular_data/tabular_data/data/water/water_train_csv.csv\"\n",
    "\n",
    "sentence_transformer = SentenceTransformer(\"sentence-t5-xl\").eval()\n",
    "def get_embeddings_model(sequences):\n",
    "    batch_size = 128\n",
    "    \n",
    "    embeddings = []\n",
    "    batch_count = len(sequences) // batch_size + (1 if len(sequences) % batch_size != 0 else 0)\n",
    "    for b_i in tqdm(range(batch_count)):\n",
    "        batch = sequences[b_i * batch_size:(b_i + 1) * batch_size]\n",
    "        embeddings_batch = sentence_transformer.encode(batch)\n",
    "        embeddings.append(embeddings_batch)\n",
    "\n",
    "    return np.concatenate(embeddings)\n",
    "\n",
    "def distribution(path):\n",
    "    with open(path, 'r') as f:\n",
    "        reader = csv.DictReader(f)\n",
    "        sequences = list(reader)\n",
    "    print(sequences[0])\n",
    "    seq_1 = [s['title'] for s in sequences]\n",
    "    seq_2 = [s['cleaned_review'] for s in sequences]\n",
    "    emb_1 = get_embeddings_model(seq_1)\n",
    "    emb_2 = get_embeddings_model(seq_2)\n",
    "    dist = [np.dot(e_1, e_2) / (np.linalg.norm(e_1) * np.linalg.norm(e_2)) for e_1, e_2 in zip(emb_1, emb_2)]\n",
    "    return np.array(dist)\n",
    "\n",
    "dist_synthetic = distribution(path_synthetic)\n",
    "dist_train = distribution(path_train)\n",
    "print(wasserstein_distance(dist_synthetic, dist_train))"
   ]
  },
  {
   "cell_type": "code",
   "execution_count": 3,
   "metadata": {},
   "outputs": [
    {
     "data": {
      "text/plain": [
       "array([0.6478088 , 0.6750095 , 0.89620155, ..., 0.8643617 , 0.6751026 ,\n",
       "       0.67674476], shape=(1997,), dtype=float32)"
      ]
     },
     "execution_count": 3,
     "metadata": {},
     "output_type": "execute_result"
    }
   ],
   "source": [
    "dist_synthetic"
   ]
  },
  {
   "cell_type": "code",
   "execution_count": null,
   "metadata": {},
   "outputs": [],
   "source": []
  }
 ],
 "metadata": {
  "kernelspec": {
   "display_name": "venv",
   "language": "python",
   "name": "python3"
  },
  "language_info": {
   "codemirror_mode": {
    "name": "ipython",
    "version": 3
   },
   "file_extension": ".py",
   "mimetype": "text/x-python",
   "name": "python",
   "nbconvert_exporter": "python",
   "pygments_lexer": "ipython3",
   "version": "3.12.3"
  }
 },
 "nbformat": 4,
 "nbformat_minor": 2
}
